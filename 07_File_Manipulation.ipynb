{
  "cells": [
    {
      "cell_type": "markdown",
      "id": "278c5afa",
      "metadata": {
        "id": "278c5afa"
      },
      "source": [
        "# File Manipulation\n",
        "Up until now, whenever we run a program none of the data entered is saved.  We lose it as soon as the program exits.  In this section we will learn how to save data to a file and read it back in."
      ]
    },
    {
      "cell_type": "markdown",
      "id": "d815b828",
      "metadata": {
        "id": "d815b828"
      },
      "source": [
        "## Note: If you are using Google Colab, you need to connect to your Google Drive to save files. On the initial run you will be required to grant permissions to Colab to manage your Google Drive.  The rest of this section will assume that you are using Google Colab.\n",
        "\n",
        "You can do this by running the following code:"
      ]
    },
    {
      "cell_type": "code",
      "execution_count": null,
      "id": "0008872c",
      "metadata": {
        "id": "0008872c"
      },
      "outputs": [],
      "source": [
        "from google.colab import drive\n",
        "drive.mount('/content/drive', force_remount=True)"
      ]
    },
    {
      "cell_type": "markdown",
      "id": "58efbb18",
      "metadata": {
        "id": "58efbb18"
      },
      "source": [
        "## Writing to a File\n",
        "To write to a file we use the `open` function with the mode set to `'w'` (write). If the file does not exist, it will be created. If it does exist, it will be overwritten.  Be careful with the file path that you provide, as it will overwrite any existing file with the same name.  For everything that we do in this session, '/content/drive/My Drive/' is the path to the folder in Google Drive where we will save our files.  You can change this to any folder you have access to in your Google Drive.\n",
        "\n",
        "The `file.write` function then allows us to write to the file.  This works in a similar way to `print`, but instead of printing to the console, it writes to the file."
      ]
    },
    {
      "cell_type": "code",
      "execution_count": 24,
      "id": "bd88a717",
      "metadata": {
        "id": "bd88a717"
      },
      "outputs": [],
      "source": [
        "with open('/content/drive/My Drive/example.txt', 'w') as file:\n",
        "    file.write('Hello, World!')"
      ]
    },
    {
      "cell_type": "markdown",
      "id": "ed9e0d2d",
      "metadata": {
        "id": "ed9e0d2d"
      },
      "source": [
        "Check your Google Drive and in the *My Drive* folder you should see a file called `example.txt` with the contents `Hello, World!`.\n",
        "\n",
        "Change the code above to write a different message to the file, \"Goodbye, Universe\".  Check your Google Drive again to see the new contents of the file.\n",
        "\n",
        "You will see that the contents of the file have been replaced with the new message.  Therefore, the current *mode* of the file access is **overwrite**.Sometimes you might need to refresh the Google Drive page to see the changes.  Another tell-tale sign is the last modified date of the file, which should change to the current date and time when you wrote to it.\n",
        "\n",
        "```python\n",
        "\n",
        "## File Modes\n",
        "There are several modes for opening files in Python:\n",
        "- `'w'`: Write mode. Opens a file for writing. If the file exists, it is truncated (overwritten). If it does not exist, it is created.\n",
        "- `'a'`: Append mode. Opens a file for writing, but does not truncate it. If the file does not exist, it is created.\n",
        "- `'x'`: Exclusive creation mode. Opens a file for writing, but raises an error if the file already exists.\n",
        "- `'r'`: Read mode (default). Opens a file for reading. If the file does not exist, it raises an error.\n",
        "- `'b'`: Binary mode. Opens a file in binary mode (e.g., for images, audio files).\n",
        "- `'t'`: Text mode (default). Opens a file in text mode. This is the default mode, so you can omit it.\n",
        "\n",
        "We'll only use `'w'`, `'a'`, `'x'` and `'r'` in this course but encourage you to explore the other modes.\n",
        "\n",
        "\n",
        "## Append mode (adding to a file)\n",
        "To append/add to a file, rather than overwrite it, we use the `open` function with the mode set to `'a'` (append). This will add new content to the end of the file without deleting the existing content.\n",
        "In the code below, we will append a new line to the `example.txt` file.  Only the mode of the file access has changed to `'a'` (append).  The rest of the code is the same as before."
      ]
    },
    {
      "cell_type": "code",
      "execution_count": 25,
      "id": "8b17db4e",
      "metadata": {
        "id": "8b17db4e"
      },
      "outputs": [],
      "source": [
        "with open('/content/drive/My Drive/example.txt', 'a') as file:\n",
        "    file.write('This is a file in Google Drive.\\n')"
      ]
    },
    {
      "cell_type": "markdown",
      "id": "5990dfa9",
      "metadata": {
        "id": "5990dfa9"
      },
      "source": [
        "Check your Google Drive again to see the new contents of the file. You should see that the new line has been added to the end of the file without deleting the existing content.\n",
        "\n",
        "## What's that \\n character?\n",
        "The `\\n` character is a newline character. It tells Python to start a new line in the file. If you don't include it, the new content will be added to the end of the last line without starting a new line.  Run the code above again and check the file contents again.  You should see that the sentence starts on a new line.  This is because the previous line ended with a newline character.\n",
        "\n",
        "### Mini-Task\n",
        "Create a new file called `python_topics.txt` and write a few lines of text to it.  Use the append mode to add more lines to the file.  Make sure to include some newline characters (`\\n`) to separate the lines.  Check your Google Drive to see the contents of the file.\n",
        "\n",
        "Sequence\n",
        "Selection\n",
        "Iteration\n",
        "Lists\n",
        "Tuples\n",
        "Dictionaries\n",
        "Functions\n",
        "File Manipulation"
      ]
    },
    {
      "cell_type": "markdown",
      "id": "83a45347",
      "metadata": {
        "id": "83a45347"
      },
      "source": [
        "## X mode (exclusive creation)\n",
        "The `'x'` mode is used to create a new file, but it will raise an error if the file already exists. This is useful when you want to ensure that you are not overwriting an existing file.  Run the code below and observe the output."
      ]
    },
    {
      "cell_type": "code",
      "source": [
        "with open('/content/drive/My Drive/python_topics.txt', 'w') as file:\n",
        "    file.write('Hello, World!\\n')\n",
        "\n",
        "with open('/content/drive/My Drive/python_topics.txt', 'a') as file:\n",
        "    file.write('This is a new line\\n')\n",
        "\n",
        "with open('/content/drive/My Drive/python_topics.txt', 'a') as file:\n",
        "    file.write('This is another new line\\n')\n",
        "\n",
        "with open('/content/drive/My Drive/python_topics.txt', 'a') as file:\n",
        "    file.write('This is the final line!\\n')\n",
        "\n"
      ],
      "metadata": {
        "id": "xMoO-zObmkHp"
      },
      "id": "xMoO-zObmkHp",
      "execution_count": 27,
      "outputs": []
    },
    {
      "cell_type": "code",
      "execution_count": null,
      "id": "ed774439",
      "metadata": {
        "id": "ed774439"
      },
      "outputs": [],
      "source": [
        "# an error will occure because example.txt already exists\n",
        "with open('/content/drive/My Drive/example.txt', 'x') as f:\n",
        "    f.write(\"xzvzxczxvzcvxcxzvcxzvcxz\")"
      ]
    },
    {
      "cell_type": "markdown",
      "id": "b5b56dc5",
      "metadata": {
        "id": "b5b56dc5"
      },
      "source": [
        "## Read mode\n",
        "Finally, to read a file, we use the `open` function with the mode set to `'r'` (read). This will open the file for reading. If the file does not exist, it will raise an error.\n",
        "We can then use the `file.read` function to read the contents of the file.  This will return the entire contents of the file as a string."
      ]
    },
    {
      "cell_type": "code",
      "execution_count": null,
      "id": "962a16f9",
      "metadata": {
        "id": "962a16f9"
      },
      "outputs": [],
      "source": [
        "with open('/content/drive/My Drive/example.txt', 'r') as file:\n",
        "    content = file.read()\n",
        "    print(content)"
      ]
    },
    {
      "cell_type": "markdown",
      "id": "65f5ff7c",
      "metadata": {
        "id": "65f5ff7c"
      },
      "source": [
        "## Read line by line\n",
        "We can read a single line from a file using the `file.readline` function. This will read the next line from the file and return it as a string. If there are no more lines to read, it will return an empty string."
      ]
    },
    {
      "cell_type": "code",
      "execution_count": null,
      "id": "a1b3e6fa",
      "metadata": {
        "id": "a1b3e6fa"
      },
      "outputs": [],
      "source": [
        "with open('/content/drive/My Drive/example.txt', 'r') as file:\n",
        "    line = file.readline()\n",
        "    print(line)"
      ]
    },
    {
      "cell_type": "markdown",
      "id": "117fd66e",
      "metadata": {
        "id": "117fd66e"
      },
      "source": [
        "This only read the first line though!  Remember, readline reads one line and then stops.  If we want to read the next line we can call readline again and again until we reach the end of the file.\n",
        "```python\n",
        "with open('/content/drive/My Drive/example.txt', 'r') as file:\n",
        "    line = file.readline()\n",
        "    print(line)  # strip() removes the newline character at the end of the line\n",
        "    line = file.readline()\n",
        "    print(line)\n",
        "    line = file.readline()\n",
        "    print(line)\n",
        "```\n",
        "\n",
        "However, we know that the above is silly as there's a lot of repetition and we don't always know how many lines there are in a file.  Instead, we can use a `for` loop to iterate over the lines in the file.  This will read each line one by one until it reaches the end of the file.\n",
        "\n",
        "```python\n",
        "with open('/content/drive/My Drive/example.txt', 'r') as file:\n",
        "    for line in file:\n",
        "        print(line)\n",
        "```\n",
        "\n",
        "Finally, you may notice that on the print satement, the lines are printed with a newline character at the end.  This is because the `readline` and `for` loop methods read the newline character at the end of each line.  If you want to remove it, you can use the `strip()` method on the line.\n",
        "\n",
        "```python\n",
        "with open('/content/drive/My Drive/example.txt', 'r') as file:\n",
        "    for line in file:\n",
        "        print(line.strip())  # strip() removes the newline character at the end of the line\n",
        "```"
      ]
    },
    {
      "cell_type": "markdown",
      "id": "2edafb98",
      "metadata": {
        "id": "2edafb98"
      },
      "source": [
        "# Task 1\n",
        "1. Write a Python program that creates a file called `greetings.txt` and writes the following lines to it:\n",
        "   - \"Hello, World!\"\n",
        "   - \"Welcome to Python programming.\"\n",
        "   - \"File manipulation is fun!\"\n",
        "\n",
        "2. Open the file in append mode and add the following line:\n",
        "   - \"Let's learn more about file handling.\"\n",
        "\n",
        "3. Read the contents of the file and print each line to the console, ensuring that no extra newline characters are printed."
      ]
    },
    {
      "cell_type": "code",
      "execution_count": 11,
      "id": "b5440df9",
      "metadata": {
        "id": "b5440df9",
        "outputId": "e4cdd721-fa42-4cf7-f32f-7f7e8284ae9f",
        "colab": {
          "base_uri": "https://localhost:8080/"
        }
      },
      "outputs": [
        {
          "output_type": "stream",
          "name": "stdout",
          "text": [
            "Mounted at /content/drive\n"
          ]
        }
      ],
      "source": [
        "from google.colab import drive\n",
        "drive.mount('/content/drive', force_remount=True)"
      ]
    },
    {
      "cell_type": "code",
      "execution_count": 53,
      "id": "e468de56",
      "metadata": {
        "id": "e468de56"
      },
      "outputs": [],
      "source": [
        "# Ex1\n",
        "with open('/content/drive/My Drive/greetings2.txt', 'w') as file:\n",
        "    file.write('Hello, World!\\n')\n",
        "    file.write('Welcome to Python programming.\\n')\n",
        "    file.write('File manipulation is fun!\\n')\n"
      ]
    },
    {
      "cell_type": "code",
      "execution_count": 54,
      "id": "d8a3a5cf",
      "metadata": {
        "id": "d8a3a5cf"
      },
      "outputs": [],
      "source": [
        "#Ex2\n",
        "\n",
        "with open('/content/drive/My Drive/greetings2.txt', 'a') as file:\n",
        "    file.write('Lets learn more about file handling\\n')\n",
        "\n"
      ]
    },
    {
      "cell_type": "code",
      "execution_count": 55,
      "id": "631b44e3",
      "metadata": {
        "collapsed": true,
        "id": "631b44e3",
        "outputId": "a85cf053-04a0-43bb-907b-b53c46ebde61",
        "colab": {
          "base_uri": "https://localhost:8080/"
        }
      },
      "outputs": [
        {
          "output_type": "stream",
          "name": "stdout",
          "text": [
            "Hello, World!\n",
            "Welcome to Python programming.\n",
            "File manipulation is fun!\n",
            "Lets learn more about file handling\n",
            "\n"
          ]
        }
      ],
      "source": [
        "#Ex3\n",
        "\n",
        "with open('/content/drive/My Drive/greetings2.txt', 'r') as file:\n",
        "    content = file.read()\n",
        "    print(content)"
      ]
    },
    {
      "cell_type": "markdown",
      "id": "5abcfde8",
      "metadata": {
        "id": "5abcfde8"
      },
      "source": [
        "# Task 2\n",
        "1. Write a Python program that creates a file called `foods.txt` and performs the following operations:\n",
        "    - Accepts an item from the user and appends it to the file.\n",
        "    - Stop accepting items when the user types \"done\".\n",
        "\n",
        "2. After the user has finished entering items, read the contents of the file and print each item to the console, ensuring that no extra newline characters are printed."
      ]
    },
    {
      "cell_type": "code",
      "execution_count": 1,
      "id": "13efe5b6",
      "metadata": {
        "id": "13efe5b6",
        "outputId": "bb300252-e58a-45df-f9b1-d28e9c9166a0",
        "colab": {
          "base_uri": "https://localhost:8080/"
        }
      },
      "outputs": [
        {
          "name": "stdout",
          "output_type": "stream",
          "text": [
            "Enter food items. Type 'done' when finished.\n",
            "Enter a food item: apple\n",
            "Enter a food item: orange\n",
            "Enter a food item: pie\n",
            "Enter a food item: cheese\n",
            "Enter a food item: done\n"
          ]
        }
      ],
      "source": [
        "# Ex1\n",
        "\n",
        "print(\"Enter food items. Type 'done' when finished.\") #instructions\n",
        "\n",
        "#retrieving input text from user and writing it into the file using a while loop\n",
        "\n",
        "with open('/content/drive/My Drive/foods.txt', 'w') as file: #opens new file stream/overwrites it even if existing\n",
        "  while True: # we want to ask the user for input until a condition is met\n",
        "    food_item = input(\"Enter a food item: \") #promt the user for a string\n",
        "    if food_item.lower() == 'done': #condition to break the loop\n",
        "      break\n",
        "    file.write(food_item + '\\n')#writes the input from the user into the file and ensures a new line each iteration\n"
      ]
    },
    {
      "cell_type": "code",
      "execution_count": 2,
      "id": "be1f6fda",
      "metadata": {
        "id": "be1f6fda",
        "outputId": "0c99c309-b239-4761-9dd0-e17cbc73f8f7",
        "colab": {
          "base_uri": "https://localhost:8080/"
        }
      },
      "outputs": [
        {
          "output_type": "stream",
          "name": "stdout",
          "text": [
            "apple\n",
            "orange\n",
            "pie\n",
            "cheese\n"
          ]
        }
      ],
      "source": [
        "# Ex2\n",
        "#prints out text from the file using a for loop\n",
        "\n",
        "with open('/content/drive/My Drive/foods.txt', 'r') as file: #opens a read stream with the file\n",
        "  for line in file: #we want to loop through all the strings the user entered\n",
        "        print(line.strip()) #print out each item/string in the loop"
      ]
    }
  ],
  "metadata": {
    "kernelspec": {
      "display_name": "base",
      "language": "python",
      "name": "python3"
    },
    "language_info": {
      "codemirror_mode": {
        "name": "ipython",
        "version": 3
      },
      "file_extension": ".py",
      "mimetype": "text/x-python",
      "name": "python",
      "nbconvert_exporter": "python",
      "pygments_lexer": "ipython3",
      "version": "3.12.7"
    },
    "colab": {
      "provenance": []
    }
  },
  "nbformat": 4,
  "nbformat_minor": 5
}