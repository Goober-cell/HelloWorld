{
  "cells": [
    {
      "cell_type": "markdown",
      "id": "f7b5c646",
      "metadata": {
        "id": "f7b5c646"
      },
      "source": [
        "# **Assignment 1**\n",
        "## ICTPRG302, ICTPRG435\n"
      ]
    },
    {
      "cell_type": "markdown",
      "id": "2cec2d63",
      "metadata": {
        "id": "2cec2d63"
      },
      "source": [
        "# Task 1\n",
        "## Scenario: Personal Budget Tracker\n",
        "\n",
        "You’ve just started a side hustle as a freelance software developer. To keep better track of your earnings and expenses, you decide to create a simple console-based Python application that helps you manage your personal budget.\n",
        "\n",
        "This basic budget tracker should allow the user to:\n",
        "\n",
        "1. Add an income or an expense\n",
        "    - If the transaction is an expense that exceeds the current balance, the program should display a warning message and not allow the transaction to be added.\n",
        "2. View balance\n",
        "3. View a full transaction history\n",
        "4. Exit the program\n",
        "5. Each transaction must include:\n",
        "    - An amount (positive for income, negative for expense)\n",
        "    - A description (e.g., \"Freelance project\", \"Groceries\")\n",
        "\n",
        "Upon the program's start balance should be set to $1000\n",
        "There should also be three transactions already in the history:\n",
        "- $200.00 for \"Freelance project\"\n",
        "- $50.00 for \"Groceries\"\n",
        "- $20.00 for \"Coffee\"\n",
        "\n",
        "The transactions that are already in the history do not count towards the current balance. The user can add new transactions, and the program will update the balance accordingly.\n",
        "\n",
        "Someone has already started the code for you. Your task is to complete the code and add the necessary functionality.\n",
        "*The code given to you is incomplete and contains errors. You need to fix the errors and complete the code.*\n",
        "\n",
        "\n",
        "Your task is to design and implement this console application using basic Python concepts. You should demonstrate your understanding of:\n",
        "\n",
        "Variables and data types\n",
        "Lists or dictionaries\n",
        "Functions\n",
        "Conditional statements (if, elif, else)\n",
        "Loops (while, for)\n",
        "Basic input/output\n",
        "\n",
        "**Sample Output**\n",
        "\n",
        "```plain text\n",
        "\n",
        "========================================\n",
        "       Welcome to Budget Tracker\n",
        "========================================\n",
        "Starting balance: $1000.00\n",
        "\n",
        "Please choose an option:\n",
        "1. Add income or expense\n",
        "2. View balance summary\n",
        "3. View transaction history\n",
        "4. Exit\n",
        "\n",
        "Enter your choice: 1\n",
        "\n",
        "Enter amount (positive for income, negative for expense): 300\n",
        "Enter description: Freelance job = Mobile App\n",
        "\n",
        "Transaction added successfully!\n",
        "\n",
        "Please choose an option:\n",
        "1. Add income or expense\n",
        "2. View balance summary\n",
        "3. View transaction history\n",
        "4. Exit\n",
        "\n",
        "Enter your choice: 1\n",
        "\n",
        "Enter amount (positive for income, negative for expense): -150\n",
        "Enter description: Office chair\n",
        "\n",
        "Transaction added successfully!\n",
        "\n",
        "Please choose an option:\n",
        "1. Add income or expense\n",
        "2. View balance summary\n",
        "3. View transaction history\n",
        "4. Exit\n",
        "\n",
        "Enter your choice: 2\n",
        "\n",
        "============ Balance Summary ============\n",
        "Current Balance:      $1150.00\n",
        "=========================================\n",
        "\n",
        "Please choose an option:\n",
        "1. Add income or expense\n",
        "2. View balance summary\n",
        "3. View transaction history\n",
        "4. Exit\n",
        "\n",
        "Enter your choice: 3\n",
        "\n",
        "========= Transaction History =========\n",
        "1. +$300.00    | Freelance job = Mobile App\n",
        "2. -$150.00    | Office chair\n",
        "=======================================\n",
        "\n",
        "Please choose an option:\n",
        "1. Add income or expense\n",
        "2. View balance summary\n",
        "3. View transaction history\n",
        "4. Exit\n",
        "\n",
        "Enter your choice: 4\n",
        "\n",
        "Exiting Budget Tracker...\n",
        "Thank you for using the app. Goodbye!\n",
        "\n",
        "```\n",
        "\n"
      ]
    },
    {
      "cell_type": "markdown",
      "id": "5feb5c57",
      "metadata": {
        "id": "5feb5c57"
      },
      "source": []
    },
    {
      "cell_type": "markdown",
      "id": "9cf51d26",
      "metadata": {
        "id": "9cf51d26"
      },
      "source": [
        "# **Tasks**\n",
        "\n",
        "## Task 1 - Algorithm and Design\n",
        "1. Verify that no other requirements are needed from the client.  Verify against the business requirements document.\n",
        "2. Create an algorithm for the menu system.  Could be a flowchart or pseudocode.\n",
        "3. Provide coding standards and guidelines for the project.\n",
        "\n",
        "## Task 2 - Implementation\n",
        "1. Fix/Debug the menu system\n",
        "2. Implement the functions to add a transaction\n",
        "3. Implement the function to view the balance\n",
        "4. Implement the function to view the transaction history\n",
        "5. Ensure that functions are preceded by a comment explaining what they do\n",
        "\n",
        "## Task 3 - Feedback and Sign-Off\n",
        "1. Present the application to the client.  Obtain feedback using the provided form.  Fix any issues and request further feedback\n",
        "2. Use the business requirements document to ensure that all requirements are met\n",
        "3. Sign off on the project with the client"
      ]
    },
    {
      "cell_type": "code",
      "execution_count": 1,
      "id": "d4831ad8",
      "metadata": {
        "id": "d4831ad8"
      },
      "outputs": [],
      "source": [
        "# Program start\n",
        "balance = 100\n",
        "transaction_history = [(200, \"Freelance project\"), (-50, \"Groceries\")]"
      ]
    },
    {
      "cell_type": "code",
      "execution_count": 2,
      "id": "9b48fd47",
      "metadata": {
        "id": "9b48fd47",
        "outputId": "6461495c-1d96-49af-fa61-0ced7d41db59",
        "colab": {
          "base_uri": "https://localhost:8080/",
          "height": 339
        }
      },
      "outputs": [
        {
          "output_type": "stream",
          "name": "stdout",
          "text": [
            "------------- Add Transaction -------------\n"
          ]
        },
        {
          "output_type": "error",
          "ename": "KeyboardInterrupt",
          "evalue": "Interrupted by user",
          "traceback": [
            "\u001b[0;31m---------------------------------------------------------------------------\u001b[0m",
            "\u001b[0;31mKeyboardInterrupt\u001b[0m                         Traceback (most recent call last)",
            "\u001b[0;32m<ipython-input-2-a09b29d4fce8>\u001b[0m in \u001b[0;36m<cell line: 0>\u001b[0;34m()\u001b[0m\n\u001b[1;32m     24\u001b[0m       \u001b[0mprint\u001b[0m\u001b[0;34m(\u001b[0m\u001b[0;34m\"Invalid input. Please enter a number\"\u001b[0m\u001b[0;34m)\u001b[0m\u001b[0;34m\u001b[0m\u001b[0;34m\u001b[0m\u001b[0m\n\u001b[1;32m     25\u001b[0m \u001b[0;34m\u001b[0m\u001b[0m\n\u001b[0;32m---> 26\u001b[0;31m \u001b[0madd_transaction\u001b[0m\u001b[0;34m(\u001b[0m\u001b[0;34m)\u001b[0m\u001b[0;34m\u001b[0m\u001b[0;34m\u001b[0m\u001b[0m\n\u001b[0m",
            "\u001b[0;32m<ipython-input-2-a09b29d4fce8>\u001b[0m in \u001b[0;36madd_transaction\u001b[0;34m()\u001b[0m\n\u001b[1;32m      6\u001b[0m       \u001b[0mprint\u001b[0m\u001b[0;34m(\u001b[0m\u001b[0;34m\"------------- Add Transaction -------------\"\u001b[0m\u001b[0;34m)\u001b[0m\u001b[0;34m\u001b[0m\u001b[0;34m\u001b[0m\u001b[0m\n\u001b[1;32m      7\u001b[0m       \u001b[0;31m# complete the function to add a transaction\u001b[0m\u001b[0;34m\u001b[0m\u001b[0;34m\u001b[0m\u001b[0m\n\u001b[0;32m----> 8\u001b[0;31m       \u001b[0mamount\u001b[0m \u001b[0;34m=\u001b[0m \u001b[0mfloat\u001b[0m\u001b[0;34m(\u001b[0m\u001b[0minput\u001b[0m\u001b[0;34m(\u001b[0m\u001b[0;34m\"Enter the transaction amount (positive for income, negative for expense: \"\u001b[0m\u001b[0;34m)\u001b[0m\u001b[0;34m)\u001b[0m\u001b[0;34m\u001b[0m\u001b[0;34m\u001b[0m\u001b[0m\n\u001b[0m\u001b[1;32m      9\u001b[0m       \u001b[0mdescription\u001b[0m \u001b[0;34m=\u001b[0m \u001b[0minput\u001b[0m\u001b[0;34m(\u001b[0m\u001b[0;34m\"Enter the transaction description: \"\u001b[0m\u001b[0;34m)\u001b[0m\u001b[0;34m\u001b[0m\u001b[0;34m\u001b[0m\u001b[0m\n\u001b[1;32m     10\u001b[0m       \u001b[0;32mif\u001b[0m \u001b[0mamount\u001b[0m \u001b[0;34m<\u001b[0m \u001b[0;36m0\u001b[0m\u001b[0;34m:\u001b[0m\u001b[0;34m\u001b[0m\u001b[0;34m\u001b[0m\u001b[0m\n",
            "\u001b[0;32m/usr/local/lib/python3.11/dist-packages/ipykernel/kernelbase.py\u001b[0m in \u001b[0;36mraw_input\u001b[0;34m(self, prompt)\u001b[0m\n\u001b[1;32m   1175\u001b[0m                 \u001b[0;34m\"raw_input was called, but this frontend does not support input requests.\"\u001b[0m\u001b[0;34m\u001b[0m\u001b[0;34m\u001b[0m\u001b[0m\n\u001b[1;32m   1176\u001b[0m             )\n\u001b[0;32m-> 1177\u001b[0;31m         return self._input_request(\n\u001b[0m\u001b[1;32m   1178\u001b[0m             \u001b[0mstr\u001b[0m\u001b[0;34m(\u001b[0m\u001b[0mprompt\u001b[0m\u001b[0;34m)\u001b[0m\u001b[0;34m,\u001b[0m\u001b[0;34m\u001b[0m\u001b[0;34m\u001b[0m\u001b[0m\n\u001b[1;32m   1179\u001b[0m             \u001b[0mself\u001b[0m\u001b[0;34m.\u001b[0m\u001b[0m_parent_ident\u001b[0m\u001b[0;34m[\u001b[0m\u001b[0;34m\"shell\"\u001b[0m\u001b[0;34m]\u001b[0m\u001b[0;34m,\u001b[0m\u001b[0;34m\u001b[0m\u001b[0;34m\u001b[0m\u001b[0m\n",
            "\u001b[0;32m/usr/local/lib/python3.11/dist-packages/ipykernel/kernelbase.py\u001b[0m in \u001b[0;36m_input_request\u001b[0;34m(self, prompt, ident, parent, password)\u001b[0m\n\u001b[1;32m   1217\u001b[0m             \u001b[0;32mexcept\u001b[0m \u001b[0mKeyboardInterrupt\u001b[0m\u001b[0;34m:\u001b[0m\u001b[0;34m\u001b[0m\u001b[0;34m\u001b[0m\u001b[0m\n\u001b[1;32m   1218\u001b[0m                 \u001b[0;31m# re-raise KeyboardInterrupt, to truncate traceback\u001b[0m\u001b[0;34m\u001b[0m\u001b[0;34m\u001b[0m\u001b[0m\n\u001b[0;32m-> 1219\u001b[0;31m                 \u001b[0;32mraise\u001b[0m \u001b[0mKeyboardInterrupt\u001b[0m\u001b[0;34m(\u001b[0m\u001b[0;34m\"Interrupted by user\"\u001b[0m\u001b[0;34m)\u001b[0m \u001b[0;32mfrom\u001b[0m \u001b[0;32mNone\u001b[0m\u001b[0;34m\u001b[0m\u001b[0;34m\u001b[0m\u001b[0m\n\u001b[0m\u001b[1;32m   1220\u001b[0m             \u001b[0;32mexcept\u001b[0m \u001b[0mException\u001b[0m\u001b[0;34m:\u001b[0m\u001b[0;34m\u001b[0m\u001b[0;34m\u001b[0m\u001b[0m\n\u001b[1;32m   1221\u001b[0m                 \u001b[0mself\u001b[0m\u001b[0;34m.\u001b[0m\u001b[0mlog\u001b[0m\u001b[0;34m.\u001b[0m\u001b[0mwarning\u001b[0m\u001b[0;34m(\u001b[0m\u001b[0;34m\"Invalid Message:\"\u001b[0m\u001b[0;34m,\u001b[0m \u001b[0mexc_info\u001b[0m\u001b[0;34m=\u001b[0m\u001b[0;32mTrue\u001b[0m\u001b[0;34m)\u001b[0m\u001b[0;34m\u001b[0m\u001b[0;34m\u001b[0m\u001b[0m\n",
            "\u001b[0;31mKeyboardInterrupt\u001b[0m: Interrupted by user"
          ]
        }
      ],
      "source": [
        "# this function is a placeholder for adding a transaction\n",
        "def add_transaction():\n",
        "    global balance\n",
        "    global transaction_history\n",
        "    try:\n",
        "      print(\"------------- Add Transaction -------------\")\n",
        "      # complete the function to add a transaction\n",
        "      amount = float(input(\"Enter the transaction amount (positive for income, negative for expense: \"))\n",
        "      description = input(\"Enter the transaction description: \")\n",
        "      if amount < 0:\n",
        "        if balance + amount < 0:\n",
        "          print(\"Amount cannot exceed balance. Please enter new number.\")\n",
        "        else:\n",
        "          print(f\"Transaction added: {amount} - {description}\")\n",
        "          balance = balance - amount\n",
        "          transaction_item = ((amount, description))\n",
        "          transaction_history.append(transaction_item)\n",
        "      elif amount > 0:\n",
        "          print(f\"Transaction added: {amount} - {description}\")\n",
        "          balance = balance + amount\n",
        "          transaction_item = ((amount, description))\n",
        "          transaction_history.append(transaction_item)\n",
        "    except ValueError:\n",
        "      print(\"Invalid input. Please enter a number\")\n",
        "\n",
        "add_transaction()"
      ]
    },
    {
      "cell_type": "code",
      "execution_count": null,
      "id": "f9ef7d4e",
      "metadata": {
        "id": "f9ef7d4e"
      },
      "outputs": [],
      "source": [
        "# this function is a placeholder for viewing the balance\n",
        "def view_balance():\n",
        "    global balance\n",
        "    global transaction_history\n",
        "\n",
        "    print(\"------------- View Balance -------------\")\n",
        "    print(f\"Current balance: {balance}\")\n",
        "\n",
        "    # complete the function to view the balance"
      ]
    },
    {
      "cell_type": "code",
      "execution_count": null,
      "id": "25d118d7",
      "metadata": {
        "id": "25d118d7"
      },
      "outputs": [],
      "source": [
        "# this function is a placeholder for viewing transaction history\n",
        "def view_transaction_history():\n",
        "    global balance\n",
        "    global transaction_history\n",
        "\n",
        "    print(\"------------- View Transaction History -------------\")\n",
        "    for transaction in transaction_history:\n",
        "        print(f\"Amount: {transaction_history[0]} : {transaction_history[1]}\")\n",
        "    # complete/debug the function to view transaction history"
      ]
    },
    {
      "cell_type": "code",
      "execution_count": null,
      "id": "b3ad3ce1",
      "metadata": {
        "id": "b3ad3ce1"
      },
      "outputs": [],
      "source": [
        "# debug and complete the functions below\n",
        "\n",
        "def menu():\n",
        "  while True:\n",
        "    global balance\n",
        "    global transaction_history\n",
        "\n",
        "    print(\"--------------------------------------------\")\n",
        "    print(\"Please choose and option:\")\n",
        "    print(\"1. Add a transaction\")\n",
        "    print(\"2. View balance\")\n",
        "    print(\"3. View transaction history\")\n",
        "    print(\"4. Exit\")\n",
        "    print(\"--------------------------------------------\")\n",
        "\n",
        "    choice = int(input(\"Enter your choice: \"))\n",
        "\n",
        "    if choice != 1 and choice != 2 and choice != 3 and choice != 4:\n",
        "        print(\"Invalid choice. Please try again.\")\n",
        "        return menu()\n",
        "\n",
        "    if choice == 1:\n",
        "      add_transaction()\n",
        "      menu()\n",
        "    elif choice == 2:\n",
        "      view_balance()\n",
        "      menu()\n",
        "    elif choice == 3:\n",
        "      view_transaction_history()\n",
        "    elif choice == 4:\n",
        "      exit_program()\n",
        "\n",
        "\n",
        "\n",
        "def exit_program():\n",
        "    print(\"Exiting the program.\")\n",
        "    exit\n",
        "\n",
        "menu()\n",
        "\n"
      ]
    },
    {
      "cell_type": "markdown",
      "id": "8e6e5f5a",
      "metadata": {
        "id": "8e6e5f5a"
      },
      "source": [
        "## Additional Requirements\n",
        "1.  Add at option to the menu to display the sum of all expenses."
      ]
    }
  ],
  "metadata": {
    "kernelspec": {
      "display_name": "base",
      "language": "python",
      "name": "python3"
    },
    "language_info": {
      "codemirror_mode": {
        "name": "ipython",
        "version": 3
      },
      "file_extension": ".py",
      "mimetype": "text/x-python",
      "name": "python",
      "nbconvert_exporter": "python",
      "pygments_lexer": "ipython3",
      "version": "3.12.7"
    },
    "colab": {
      "provenance": []
    }
  },
  "nbformat": 4,
  "nbformat_minor": 5
}